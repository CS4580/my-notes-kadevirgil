{
 "cells": [
  {
   "cell_type": "markdown",
   "metadata": {},
   "source": [
    "## Tasks\n",
    "\n",
    "### Load the wine dataset\n",
    "Calculate the `median` of the `points` column from the dataset"
   ]
  },
  {
   "cell_type": "code",
   "execution_count": 29,
   "metadata": {},
   "outputs": [
    {
     "name": "stdout",
     "output_type": "stream",
     "text": [
      "The median of the points column is: 88.0\n"
     ]
    }
   ],
   "source": [
    "# Load the data\n",
    "import pandas as pd\n",
    "df = pd.read_csv('../data/winemag-data-130k-v2.csv')\n",
    "\n",
    "# Calculate the median of the points column from the dataset frame\n",
    "# in a variable called median_points\n",
    "median_points = df['points'].median()\n",
    "print(f\"The median of the points column is: {median_points}\")"
   ]
  },
  {
   "cell_type": "code",
   "execution_count": 11,
   "metadata": {},
   "outputs": [
    {
     "name": "stdout",
     "output_type": "stream",
     "text": [
      "The countries represented in the dataset are:\n",
      "['Italy' 'Portugal' 'US' 'Spain' 'France' 'Germany' 'Argentina' 'Chile'\n",
      " 'Australia' 'Austria' 'South Africa' 'New Zealand' 'Israel' 'Hungary'\n",
      " 'Greece' 'Romania' 'Mexico' 'Canada' nan 'Turkey' 'Czech Republic'\n",
      " 'Slovenia' 'Luxembourg' 'Croatia' 'Georgia' 'Uruguay' 'England' 'Lebanon'\n",
      " 'Serbia' 'Brazil' 'Moldova' 'Morocco' 'Peru' 'India' 'Bulgaria' 'Cyprus'\n",
      " 'Armenia' 'Switzerland' 'Bosnia and Herzegovina' 'Ukraine' 'Slovakia'\n",
      " 'Macedonia' 'China' 'Egypt']\n"
     ]
    }
   ],
   "source": [
    "# Find which countries are reperesented in the dataset \n",
    "# store values in: countries = \n",
    "countries = df['country'].unique()\n",
    "print(f\"The countries represented in the dataset are:\\n{countries}\")"
   ]
  },
  {
   "cell_type": "code",
   "execution_count": 14,
   "metadata": {},
   "outputs": [
    {
     "name": "stdout",
     "output_type": "stream",
     "text": [
      "The number of reviews per country are:\n",
      "country\n",
      "US                        54504\n",
      "France                    22093\n",
      "Italy                     19540\n",
      "Spain                      6645\n",
      "Portugal                   5691\n",
      "Chile                      4472\n",
      "Argentina                  3800\n",
      "Austria                    3345\n",
      "Australia                  2329\n",
      "Germany                    2165\n",
      "New Zealand                1419\n",
      "South Africa               1401\n",
      "Israel                      505\n",
      "Greece                      466\n",
      "Canada                      257\n",
      "Hungary                     146\n",
      "Bulgaria                    141\n",
      "Romania                     120\n",
      "Uruguay                     109\n",
      "Turkey                       90\n",
      "Slovenia                     87\n",
      "Georgia                      86\n",
      "England                      74\n",
      "Croatia                      73\n",
      "Mexico                       70\n",
      "Moldova                      59\n",
      "Brazil                       52\n",
      "Lebanon                      35\n",
      "Morocco                      28\n",
      "Peru                         16\n",
      "Ukraine                      14\n",
      "Serbia                       12\n",
      "Czech Republic               12\n",
      "Macedonia                    12\n",
      "Cyprus                       11\n",
      "India                         9\n",
      "Switzerland                   7\n",
      "Luxembourg                    6\n",
      "Bosnia and Herzegovina        2\n",
      "Armenia                       2\n",
      "Slovakia                      1\n",
      "China                         1\n",
      "Egypt                         1\n",
      "Name: count, dtype: int64\n"
     ]
    }
   ],
   "source": [
    "# Find how often each country appears in the set \n",
    "# store avlues in: reviews_per_country =\n",
    "reviews_per_country = df['country'].value_counts()\n",
    "print(f\"The number of reviews per country are:\\n{reviews_per_country}\")"
   ]
  },
  {
   "cell_type": "code",
   "execution_count": 24,
   "metadata": {},
   "outputs": [
    {
     "name": "stdout",
     "output_type": "stream",
     "text": [
      "The centered price column is:\n",
      "0               NaN\n",
      "1        -20.363389\n",
      "2        -21.363389\n",
      "3        -22.363389\n",
      "4         29.636611\n",
      "            ...    \n",
      "129966    -7.363389\n",
      "129967    39.636611\n",
      "129968    -5.363389\n",
      "129969    -3.363389\n",
      "129970   -14.363389\n",
      "Name: price, Length: 129971, dtype: float64\n"
     ]
    }
   ],
   "source": [
    "# Create a Series called: centered_price\n",
    "# that contains the price column with the mean price subtracted\n",
    "centered_price = df['price'] - df['price'].mean()\n",
    "print(f\"The centered price column is:\\n{centered_price}\")"
   ]
  },
  {
   "cell_type": "code",
   "execution_count": 17,
   "metadata": {},
   "outputs": [
    {
     "name": "stdout",
     "output_type": "stream",
     "text": [
      "The bargain wine is: Bandit NV Merlot (California)\n"
     ]
    }
   ],
   "source": [
    "# Find the bargain wines.\n",
    "# Create a variable called bargain_wine with the title of the \n",
    "# wine with the highest points-to-price ratio in the dataset\n",
    "# Hint: Use the idxmax() function to find the index of the wine with the highest points-to-price ratio\n",
    "bargain_wine = df.loc[(df['points'] / df['price']).idxmax(), 'title']\n",
    "print(f\"The bargain wine is: {bargain_wine}\")"
   ]
  },
  {
   "cell_type": "code",
   "execution_count": 35,
   "metadata": {},
   "outputs": [
    {
     "name": "stdout",
     "output_type": "stream",
     "text": [
      "Number of times 'fruity' or 'tropical' appears in the description of a wine:\n",
      "tropical    3607\n",
      "fruity      9090\n",
      "dtype: int64\n"
     ]
    }
   ],
   "source": [
    "# Create a Series called: descriptor_counts\n",
    "# that counts how many times each of the following words: 'Fruity' and 'Tropical'\n",
    "# appears in the description column in the dataset\n",
    "tropical_counts = df['description'].map(lambda desc: 'tropical' in desc).sum()\n",
    "fruity_counts = df['description'].map(lambda desc: 'fruity' in desc).sum()\n",
    "descriptor_counts = pd.Series([tropical_counts, fruity_counts], index=['tropical', 'fruity'])\n",
    "print(f\"Number of times 'fruity' or 'tropical' appears in the description of a wine:\\n{descriptor_counts}\")"
   ]
  },
  {
   "cell_type": "code",
   "execution_count": 46,
   "metadata": {},
   "outputs": [
    {
     "name": "stdout",
     "output_type": "stream",
     "text": [
      "Star ratings for each review in the dataset:\n",
      "points\n",
      "3      2416\n",
      "2    115125\n",
      "1     12430\n",
      "Name: count, dtype: int64\n"
     ]
    }
   ],
   "source": [
    "# Create a Series called: star_ratings\n",
    "# With the number of stars corresponding to each review in the dataset\n",
    "# Rating system ranges from 80-100\n",
    "# A score of 95+ = 3 stars, \n",
    "# A score of 85-94 = 2 stars\n",
    "# A score < 85 = 1 star\n",
    "star_ratings = df['points'].map(lambda points: 3 if points >= 95 else 2 if points >= 85 else 1)\n",
    "print(f\"Star ratings for each review in the dataset:\\n{star_ratings.value_counts().sort_index(ascending=False)}\")"
   ]
  }
 ],
 "metadata": {
  "kernelspec": {
   "display_name": "module3",
   "language": "python",
   "name": "python3"
  },
  "language_info": {
   "codemirror_mode": {
    "name": "ipython",
    "version": 3
   },
   "file_extension": ".py",
   "mimetype": "text/x-python",
   "name": "python",
   "nbconvert_exporter": "python",
   "pygments_lexer": "ipython3",
   "version": "3.11.9"
  }
 },
 "nbformat": 4,
 "nbformat_minor": 2
}
