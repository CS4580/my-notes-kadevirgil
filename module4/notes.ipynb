{
 "cells": [
  {
   "cell_type": "markdown",
   "metadata": {},
   "source": [
    "## Iterables\n",
    "Comprehensions, Iterable objects, and iterators.\n",
    "We can beiefuly discuss the lazy evaluation model with generators\n",
    "\n",
    "### List Comprehensions.\n",
    "The shorthand of comprehensions will make yo ucode more readable, expressive, and effective.\n",
    "\n",
    "General Form:\n",
    "```py\n",
    "[expor(item) for item in iterable]\n",
    "```"
   ]
  },
  {
   "cell_type": "code",
   "execution_count": 1,
   "metadata": {},
   "outputs": [
    {
     "name": "stdout",
     "output_type": "stream",
     "text": [
      "['The', 'quick', 'brown', 'fox', 'jumps', 'over', 'the', 'lazy', 'dog']\n"
     ]
    }
   ],
   "source": [
    "# A big string\n",
    "words = \"The quick brown fox jumps over the lazy dog\"\n",
    "# Split the string into a list of words\n",
    "words = words.split()\n",
    "print(words)"
   ]
  },
  {
   "cell_type": "code",
   "execution_count": 3,
   "metadata": {},
   "outputs": [
    {
     "name": "stdout",
     "output_type": "stream",
     "text": [
      "['The', 'quick', 'brown', 'fox', 'jumps', 'over', 'the', 'lazy', 'dog']\n",
      "[3, 5, 5, 3, 5, 4, 3, 4, 3]\n"
     ]
    }
   ],
   "source": [
    "# Create a new list with the length of each string from words\n",
    "lengths = []\n",
    "for word in words:\n",
    "    # Iterate over the list of words and append the length of each word to the list\n",
    "    lengths.append(len(word))\n",
    "    \n",
    "# Print the list of lengths\n",
    "print(words)\n",
    "print(lengths)"
   ]
  },
  {
   "cell_type": "code",
   "execution_count": 5,
   "metadata": {},
   "outputs": [
    {
     "name": "stdout",
     "output_type": "stream",
     "text": [
      "['The', 'quick', 'brown', 'fox', 'jumps', 'over', 'the', 'lazy', 'dog']\n",
      "[3, 5, 5, 3, 5, 4, 3, 4, 3]\n"
     ]
    }
   ],
   "source": [
    "# Use a list comprehension to create a list of lengths intead of a for loop\n",
    "lengths = [len(word) for word in words]\n",
    "print(words)\n",
    "print(lengths)"
   ]
  },
  {
   "cell_type": "code",
   "execution_count": 13,
   "metadata": {},
   "outputs": [
    {
     "name": "stdout",
     "output_type": "stream",
     "text": [
      "The length of the first 20 fact numbers are:\n",
      "[1, 1, 1, 1, 2, 3, 3, 4, 5, 6, 7, 8, 9, 10, 11, 13, 14, 15, 16, 18]\n"
     ]
    }
   ],
   "source": [
    "# Using a list comprehension, caluclate the number of digits for the first 20 factorials\n",
    "from math import factorial as fact\n",
    "factorial_lengths = [len(str(fact(num))) for num in range(20)]\n",
    "\n",
    "print(f'The length of the first 20 fact numbers are:\\n{factorial_lengths}')"
   ]
  },
  {
   "cell_type": "markdown",
   "metadata": {},
   "source": [
    "### Set Comprehensions\n",
    "\n",
    "General form:\n",
    "```py\n",
    "{expr(item) for item in iterable}\n",
    "```"
   ]
  },
  {
   "cell_type": "code",
   "execution_count": 14,
   "metadata": {},
   "outputs": [
    {
     "name": "stdout",
     "output_type": "stream",
     "text": [
      "The unique lengths of the first 20 fact numbers are:\n",
      "{1, 2, 3, 4, 5, 6, 7, 8, 9, 10, 11, 13, 14, 15, 16, 18}\n"
     ]
    }
   ],
   "source": [
    "# TODO: Create a list of unique lengths of the first 20 factorials\n",
    "number = {len(str(fact(num))) for num in range(20)}\n",
    "print(f'The unique lengths of the first 20 fact numbers are:\\n{number}')\n"
   ]
  },
  {
   "cell_type": "markdown",
   "metadata": {},
   "source": [
    "### Dictionary Comprehensions\n",
    "\n",
    "General Form:\n",
    "```py\n",
    "# Key Expression\n",
    "{key_expr:value for item in iterable}\n",
    "```"
   ]
  },
  {
   "cell_type": "code",
   "execution_count": 18,
   "metadata": {},
   "outputs": [
    {
     "name": "stdout",
     "output_type": "stream",
     "text": [
      "The original dictionary is:\n",
      "{'Warriors': 'Golden State', 'Cavaliers': 'Cleveland', 'Raptors': 'Toronto', 'Mavericks': 'Dallas'}\n",
      "The swapped dictionary is:\n",
      "{'Golden State': 'Warriors', 'Cleveland': 'Cavaliers', 'Toronto': 'Raptors', 'Dallas': 'Mavericks'}\n"
     ]
    }
   ],
   "source": [
    "# Create a dictionary\n",
    "nba_teams = { 'Warriors': 'Golden State', 'Cavaliers': 'Cleveland', 'Raptors': 'Toronto', 'Mavericks': 'Dallas' }\n",
    "print(f'The original dictionary is:\\n{nba_teams}')\n",
    "# Create a new dictionary using dictionary comprehensions with the keys and values swapped\n",
    "teams_nba = {location: team_name for team_name, location in nba_teams.items()}\n",
    "print(f'The swapped dictionary is:\\n{teams_nba}')"
   ]
  },
  {
   "cell_type": "markdown",
   "metadata": {},
   "source": [
    "## Filterting Predicates\n",
    "You may use `optional` fitlering predicate\n",
    "\n",
    "Usage:\n",
    "```py\n",
    "[expr(item) for item in iterable if predicate(item)]\n",
    "```"
   ]
  },
  {
   "cell_type": "code",
   "execution_count": 26,
   "metadata": {},
   "outputs": [
    {
     "name": "stdout",
     "output_type": "stream",
     "text": [
      "The first 100 prime numbers are:\n",
      "[2, 3, 5, 7, 11, 13, 17, 19, 23, 29, 31, 37, 41, 43, 47, 53, 59, 61, 67, 71, 73, 79, 83, 89, 97]\n"
     ]
    }
   ],
   "source": [
    "# TODO: Define a function that return true or false if a number is prime\n",
    "# This is our filter function that will be used in the list comprehension\n",
    "# Also called a predicate function\n",
    "def is_prime(num):\n",
    "    if num < 2:\n",
    "        return False\n",
    "    for i in range(2, num):\n",
    "        if num % i == 0:\n",
    "            return False\n",
    "    return True\n",
    "\n",
    "# TODO: Use a list comprehension to create a list of the first 100 prime numbers\n",
    "primes = [num for num in range(100) if is_prime(num)]\n",
    "print(f'The first 100 prime numbers are:\\n{primes}')\n",
    "\n",
    "# MOMENT OF ZEN: Simple is better than complex.\n",
    "# Code is written once, but read over and over\n",
    "# Keep it simple! Fewer lines is clearer!"
   ]
  },
  {
   "cell_type": "code",
   "execution_count": 27,
   "metadata": {},
   "outputs": [
    {
     "name": "stdout",
     "output_type": "stream",
     "text": [
      "The Zen of Python, by Tim Peters\n",
      "\n",
      "Beautiful is better than ugly.\n",
      "Explicit is better than implicit.\n",
      "Simple is better than complex.\n",
      "Complex is better than complicated.\n",
      "Flat is better than nested.\n",
      "Sparse is better than dense.\n",
      "Readability counts.\n",
      "Special cases aren't special enough to break the rules.\n",
      "Although practicality beats purity.\n",
      "Errors should never pass silently.\n",
      "Unless explicitly silenced.\n",
      "In the face of ambiguity, refuse the temptation to guess.\n",
      "There should be one-- and preferably only one --obvious way to do it.\n",
      "Although that way may not be obvious at first unless you're Dutch.\n",
      "Now is better than never.\n",
      "Although never is often better than *right* now.\n",
      "If the implementation is hard to explain, it's a bad idea.\n",
      "If the implementation is easy to explain, it may be a good idea.\n",
      "Namespaces are one honking great idea -- let's do more of those!\n"
     ]
    }
   ],
   "source": [
    "import this # Zen of Python"
   ]
  },
  {
   "cell_type": "markdown",
   "metadata": {},
   "source": [
    "## TODO: \n",
    "- Iteration Protocols\n",
    "- Generators\n"
   ]
  }
 ],
 "metadata": {
  "kernelspec": {
   "display_name": "module4",
   "language": "python",
   "name": "python3"
  },
  "language_info": {
   "codemirror_mode": {
    "name": "ipython",
    "version": 3
   },
   "file_extension": ".py",
   "mimetype": "text/x-python",
   "name": "python",
   "nbconvert_exporter": "python",
   "pygments_lexer": "ipython3",
   "version": "3.12.5"
  }
 },
 "nbformat": 4,
 "nbformat_minor": 2
}
