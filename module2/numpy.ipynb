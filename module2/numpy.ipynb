{
 "cells": [
  {
   "cell_type": "markdown",
   "metadata": {},
   "source": [
    "# Numpy\n",
    "\n",
    "## Features\n",
    "- High Performance\n",
    "- Vectorization\n",
    "- Broadcasting\n",
    "- Interoperbaility"
   ]
  },
  {
   "cell_type": "markdown",
   "metadata": {},
   "source": [
    "### Comparison with over alternatives\n",
    "\n",
    "#### Python list vs Numpy Array\n",
    "- Elements of different types `vs` Same type\n",
    "- Variable size nesting `vs` same size nesting\n",
    "- No operations at the list level `vs` operations allowed at the array level\n",
    "- Uses a lot of memory `vs` less memory\n"
   ]
  },
  {
   "cell_type": "markdown",
   "metadata": {},
   "source": []
  }
 ],
 "metadata": {
  "language_info": {
   "name": "python"
  }
 },
 "nbformat": 4,
 "nbformat_minor": 2
}
