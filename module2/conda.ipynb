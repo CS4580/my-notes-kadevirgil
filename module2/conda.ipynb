{
 "cells": [
  {
   "cell_type": "markdown",
   "metadata": {},
   "source": [
    "# Notes for how to use Conda venv"
   ]
  },
  {
   "cell_type": "markdown",
   "metadata": {},
   "source": [
    "## Conda\n",
    "\n",
    "Create and maange your virtual environment\n",
    "\n",
    "To create venv, with a specific `python` version.\n",
    "\n",
    "```bash\n",
    "conda create -n <name of environment> python=3.10\n",
    "```"
   ]
  },
  {
   "cell_type": "markdown",
   "metadata": {},
   "source": [
    "Enter `y` to proceed in creating the environment \n",
    "\n",
    "you may need to initialize conda\n",
    "```bash\n",
    "conda init\n",
    "```\n",
    "\n",
    "and to activate it run \n",
    "```bash\n",
    "conda activate <name of environment>\n",
    "```"
   ]
  },
  {
   "cell_type": "markdown",
   "metadata": {},
   "source": [
    "To install packages to your venv run:\n",
    "\n",
    "```bash \n",
    "conda install <package_name>\n",
    "```"
   ]
  },
  {
   "cell_type": "markdown",
   "metadata": {},
   "source": [
    "# Numpy\n",
    "\n",
    "## Features\n",
    "- High Performance\n",
    "- Vectorization\n",
    "- "
   ]
  }
 ],
 "metadata": {
  "language_info": {
   "name": "python"
  }
 },
 "nbformat": 4,
 "nbformat_minor": 2
}
