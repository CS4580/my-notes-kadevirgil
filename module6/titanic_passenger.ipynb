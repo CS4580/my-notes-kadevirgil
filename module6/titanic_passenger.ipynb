{
 "cells": [
  {
   "cell_type": "markdown",
   "metadata": {},
   "source": [
    "## Chi-Square Analysis\n",
    "\n",
    "### First Question: Did more women and children suvive compared to men?\n",
    "\n",
    "#### Dataset from Canvas (Titanic Passenger List.csv)"
   ]
  },
  {
   "cell_type": "code",
   "execution_count": 1,
   "metadata": {},
   "outputs": [
    {
     "data": {
      "text/html": [
       "<div>\n",
       "<style scoped>\n",
       "    .dataframe tbody tr th:only-of-type {\n",
       "        vertical-align: middle;\n",
       "    }\n",
       "\n",
       "    .dataframe tbody tr th {\n",
       "        vertical-align: top;\n",
       "    }\n",
       "\n",
       "    .dataframe thead th {\n",
       "        text-align: right;\n",
       "    }\n",
       "</style>\n",
       "<table border=\"1\" class=\"dataframe\">\n",
       "  <thead>\n",
       "    <tr style=\"text-align: right;\">\n",
       "      <th></th>\n",
       "      <th>Name</th>\n",
       "      <th>Born</th>\n",
       "      <th>Died</th>\n",
       "      <th>Age</th>\n",
       "      <th>Gender</th>\n",
       "      <th>Passenger_Class</th>\n",
       "      <th>Lived_Died</th>\n",
       "      <th>Fare</th>\n",
       "      <th>Fare_decimal</th>\n",
       "    </tr>\n",
       "  </thead>\n",
       "  <tbody>\n",
       "    <tr>\n",
       "      <th>0</th>\n",
       "      <td>DEAN, Miss Elizabeth Gladys Millvina</td>\n",
       "      <td>1912.0</td>\n",
       "      <td>2009.0</td>\n",
       "      <td>0.166667</td>\n",
       "      <td>Female</td>\n",
       "      <td>3</td>\n",
       "      <td>lived</td>\n",
       "      <td>£20             11s             6d</td>\n",
       "      <td>20.58</td>\n",
       "    </tr>\n",
       "    <tr>\n",
       "      <th>1</th>\n",
       "      <td>DANBOM, Master Gilbert Sigvard Emanuel</td>\n",
       "      <td>1911.0</td>\n",
       "      <td>1912.0</td>\n",
       "      <td>0.333333</td>\n",
       "      <td>Male</td>\n",
       "      <td>3</td>\n",
       "      <td>died</td>\n",
       "      <td>£14             8s</td>\n",
       "      <td>14.40</td>\n",
       "    </tr>\n",
       "    <tr>\n",
       "      <th>2</th>\n",
       "      <td>TANNūS, Master As'ad</td>\n",
       "      <td>1911.0</td>\n",
       "      <td>1931.0</td>\n",
       "      <td>0.416667</td>\n",
       "      <td>Male</td>\n",
       "      <td>3</td>\n",
       "      <td>lived</td>\n",
       "      <td>£8             10s             4d</td>\n",
       "      <td>8.52</td>\n",
       "    </tr>\n",
       "    <tr>\n",
       "      <th>3</th>\n",
       "      <td>PEACOCK, Master Albert Edward</td>\n",
       "      <td>1911.0</td>\n",
       "      <td>1912.0</td>\n",
       "      <td>0.583333</td>\n",
       "      <td>Male</td>\n",
       "      <td>3</td>\n",
       "      <td>died</td>\n",
       "      <td>£13             15s             6d</td>\n",
       "      <td>13.78</td>\n",
       "    </tr>\n",
       "    <tr>\n",
       "      <th>4</th>\n",
       "      <td>RICHARDS, Master Sibley George</td>\n",
       "      <td>1911.0</td>\n",
       "      <td>1987.0</td>\n",
       "      <td>0.750000</td>\n",
       "      <td>Male</td>\n",
       "      <td>2</td>\n",
       "      <td>lived</td>\n",
       "      <td>£18             15s</td>\n",
       "      <td>18.75</td>\n",
       "    </tr>\n",
       "  </tbody>\n",
       "</table>\n",
       "</div>"
      ],
      "text/plain": [
       "                                     Name    Born    Died       Age  Gender  \\\n",
       "0    DEAN, Miss Elizabeth Gladys Millvina  1912.0  2009.0  0.166667  Female   \n",
       "1  DANBOM, Master Gilbert Sigvard Emanuel  1911.0  1912.0  0.333333    Male   \n",
       "2                    TANNūS, Master As'ad  1911.0  1931.0  0.416667    Male   \n",
       "3           PEACOCK, Master Albert Edward  1911.0  1912.0  0.583333    Male   \n",
       "4          RICHARDS, Master Sibley George  1911.0  1987.0  0.750000    Male   \n",
       "\n",
       "   Passenger_Class Lived_Died                                Fare  \\\n",
       "0                3      lived  £20             11s             6d   \n",
       "1                3       died                  £14             8s   \n",
       "2                3      lived   £8             10s             4d   \n",
       "3                3       died  £13             15s             6d   \n",
       "4                2      lived                 £18             15s   \n",
       "\n",
       "   Fare_decimal  \n",
       "0         20.58  \n",
       "1         14.40  \n",
       "2          8.52  \n",
       "3         13.78  \n",
       "4         18.75  "
      ]
     },
     "execution_count": 1,
     "metadata": {},
     "output_type": "execute_result"
    }
   ],
   "source": [
    "import pandas as pd\n",
    "\n",
    "passenger_df = pd.read_csv('../data/titanic_passengers.csv')\n",
    "\n",
    "passenger_df.head()"
   ]
  },
  {
   "cell_type": "markdown",
   "metadata": {},
   "source": [
    "- What kind of data is the `dependent` variable? \n",
    "    - Ordinal\n",
    "- What kind of data is the `independent` (gender) variable? \n",
    "    - Nominal \n",
    "\n",
    "\n",
    "    - `Ordinal` data. Data that can be ordered \n",
    "    - `Categorical/nominal` data. Data that can not be ordered"
   ]
  },
  {
   "cell_type": "code",
   "execution_count": 2,
   "metadata": {},
   "outputs": [
    {
     "data": {
      "text/html": [
       "<div>\n",
       "<style scoped>\n",
       "    .dataframe tbody tr th:only-of-type {\n",
       "        vertical-align: middle;\n",
       "    }\n",
       "\n",
       "    .dataframe tbody tr th {\n",
       "        vertical-align: top;\n",
       "    }\n",
       "\n",
       "    .dataframe thead th {\n",
       "        text-align: right;\n",
       "    }\n",
       "</style>\n",
       "<table border=\"1\" class=\"dataframe\">\n",
       "  <thead>\n",
       "    <tr style=\"text-align: right;\">\n",
       "      <th>Lived_Died</th>\n",
       "      <th>died</th>\n",
       "      <th>lived</th>\n",
       "    </tr>\n",
       "    <tr>\n",
       "      <th>Gender</th>\n",
       "      <th></th>\n",
       "      <th></th>\n",
       "    </tr>\n",
       "  </thead>\n",
       "  <tbody>\n",
       "    <tr>\n",
       "      <th>Female</th>\n",
       "      <td>143</td>\n",
       "      <td>339</td>\n",
       "    </tr>\n",
       "    <tr>\n",
       "      <th>Male</th>\n",
       "      <td>709</td>\n",
       "      <td>161</td>\n",
       "    </tr>\n",
       "  </tbody>\n",
       "</table>\n",
       "</div>"
      ],
      "text/plain": [
       "Lived_Died  died  lived\n",
       "Gender                 \n",
       "Female       143    339\n",
       "Male         709    161"
      ]
     },
     "execution_count": 2,
     "metadata": {},
     "output_type": "execute_result"
    }
   ],
   "source": [
    "# Create contingency table\n",
    "# NOTE: Margins = True will show the summary statistics\n",
    "contingency_table = pd.crosstab(passenger_df['Gender'], passenger_df['Lived_Died'])\n",
    "\n",
    "contingency_table"
   ]
  },
  {
   "cell_type": "code",
   "execution_count": 3,
   "metadata": {},
   "outputs": [
    {
     "data": {
      "text/plain": [
       "Text(0, 0.5, 'Count')"
      ]
     },
     "execution_count": 3,
     "metadata": {},
     "output_type": "execute_result"
    },
    {
     "data": {
      "image/png": "[encoded data removed]",
      "text/plain": [
       "<Figure size 640x480 with 1 Axes>"
      ]
     },
     "metadata": {},
     "output_type": "display_data"
    }
   ],
   "source": [
    "# Create a stacked bar chart of the contingency table\n",
    "import matplotlib.pyplot as plt\n",
    "\n",
    "# exlude the last column and rwo which are the margins (summary statistics)\n",
    "contingency_table.plot(kind='bar', stacked=True)\n",
    "\n",
    "# Give it a titile and label the axes\n",
    "plt.title('Survival by Gender')\n",
    "plt.xlabel('Gender')\n",
    "plt.ylabel('Count')"
   ]
  },
  {
   "cell_type": "code",
   "execution_count": 4,
   "metadata": {},
   "outputs": [
    {
     "name": "stdout",
     "output_type": "stream",
     "text": [
      "Chi Square Value: 355.24355436145913\n",
      "P-Value: 3.0570688722545846e-79\n",
      "Degrees of Freedom: 1\n",
      "Expected Frequencies Table: \n",
      "[[303.74556213 178.25443787]\n",
      " [548.25443787 321.74556213]]\n"
     ]
    }
   ],
   "source": [
    "# Print the Chi Squared analysis\n",
    "from scipy.stats import chi2_contingency\n",
    "\n",
    "chi2, p, dof, expected = chi2_contingency(contingency_table)\n",
    "\n",
    "print(f'Chi Square Value: {chi2}')\n",
    "print(f'P-Value: {p}')\n",
    "print(f'Degrees of Freedom: {dof}')\n",
    "print(f'Expected Frequencies Table: \\n{expected}')\n",
    "\n",
    "\n",
    "# NOTE: With the Chi Square test, we are testing the null hypothesis that the two variables are independent\n",
    "# You get 4 values back: \n",
    "# 1. The Chi Square value: The higher the value, the more likely the variables are dependent\n",
    "# 2. The target p-value: The lower the value, the more likely the variables are dependent\n",
    "# 3. The degrees of freedom: The number of values that are free to vary\n",
    "# 4. Expected Frequencies Table: The expected values if the variables were independent\n"
   ]
  },
  {
   "cell_type": "markdown",
   "metadata": {},
   "source": [
    "### Chi-Square Example: Was Age Relevant? "
   ]
  },
  {
   "cell_type": "code",
   "execution_count": 5,
   "metadata": {},
   "outputs": [
    {
     "name": "stdout",
     "output_type": "stream",
     "text": [
      "Chi2-Stats for Age Group:\n",
      "Chi2ContingencyResult(statistic=24.465546982751874, pvalue=0.0009433264132943268, dof=7, expected_freq=array([[ 62.4246988 ,  37.5753012 ],\n",
      "       [141.70406627,  85.29593373],\n",
      "       [282.15963855, 169.84036145],\n",
      "       [165.42545181,  99.57454819],\n",
      "       [109.24322289,  65.75677711],\n",
      "       [ 43.69728916,  26.30271084],\n",
      "       [ 21.22439759,  12.77560241],\n",
      "       [  3.12123494,   1.87876506]]))\n"
     ]
    }
   ],
   "source": [
    "# Cut the age column into bins for every 10 years\n",
    "\n",
    "# Create the labels\n",
    "labels = ['0-9', '10-19', '20-29', '30-39', '40-49', '50-59', '60-69', '70-79']\n",
    "\n",
    "# Create the new column\n",
    "passenger_df['Age_Group'] = pd.cut(passenger_df['Age'], bins=range(0, 90, 10), labels=labels)\n",
    "\n",
    "# Create the contingency table\n",
    "contingency_table = pd.crosstab(passenger_df['Age_Group'], passenger_df['Lived_Died'])\n",
    "\n",
    "contingency_table\n",
    "print(f'Chi2-Stats for Age Group:\\n{chi2_contingency(contingency_table)}')"
   ]
  },
  {
   "cell_type": "code",
   "execution_count": 6,
   "metadata": {},
   "outputs": [
    {
     "data": {
      "text/plain": [
       "<Axes: xlabel='Age_Group'>"
      ]
     },
     "execution_count": 6,
     "metadata": {},
     "output_type": "execute_result"
    },
    {
     "data": {
      "image/png": "[encoded data removed]",
      "text/plain": [
       "<Figure size 640x480 with 1 Axes>"
      ]
     },
     "metadata": {},
     "output_type": "display_data"
    }
   ],
   "source": [
    "# Plot the contingency table\n",
    "contingency_table.plot(kind='bar', stacked=True)"
   ]
  },
  {
   "cell_type": "code",
   "execution_count": 7,
   "metadata": {},
   "outputs": [
    {
     "data": {
      "text/plain": [
       "Index(['Name', 'Born', 'Died', 'Age', 'Gender', 'Passenger_Class',\n",
       "       'Lived_Died', 'Fare', 'Fare_decimal'],\n",
       "      dtype='object')"
      ]
     },
     "execution_count": 7,
     "metadata": {},
     "output_type": "execute_result"
    }
   ],
   "source": [
    "# Show the heatmap of age_group and lived_died\n",
    "import seaborn as sns\n",
    "import pandas as pd\n",
    "import matplotlib.pyplot as plt\n",
    "from sklearn import preprocessing\n",
    "%matplotlib inline\n",
    "\n",
    "passenger_df = pd.read_csv('../data/titanic_passengers.csv')\n",
    "passenger_df.columns"
   ]
  },
  {
   "cell_type": "code",
   "execution_count": 8,
   "metadata": {},
   "outputs": [
    {
     "ename": "KeyError",
     "evalue": "'Age_Group'",
     "output_type": "error",
     "traceback": [
      "\u001b[0;31m---------------------------------------------------------------------------\u001b[0m",
      "\u001b[0;31mKeyError\u001b[0m                                  Traceback (most recent call last)",
      "Cell \u001b[0;32mIn[8], line 10\u001b[0m\n\u001b[1;32m      6\u001b[0m passenger_df[\u001b[38;5;124m'\u001b[39m\u001b[38;5;124mLived_Died_int\u001b[39m\u001b[38;5;124m'\u001b[39m] \u001b[38;5;241m=\u001b[39m le\u001b[38;5;241m.\u001b[39mfit_transform(passenger_df[\u001b[38;5;124m'\u001b[39m\u001b[38;5;124mLived_Died\u001b[39m\u001b[38;5;124m'\u001b[39m])\n\u001b[1;32m      8\u001b[0m \u001b[38;5;66;03m# Create a heatmap \u001b[39;00m\n\u001b[1;32m      9\u001b[0m \u001b[38;5;66;03m# Use a pivot table to create a matrix of the data\u001b[39;00m\n\u001b[0;32m---> 10\u001b[0m pivot_table \u001b[38;5;241m=\u001b[39m \u001b[43mpd\u001b[49m\u001b[38;5;241;43m.\u001b[39;49m\u001b[43mpivot_table\u001b[49m\u001b[43m(\u001b[49m\u001b[43mpassenger_df\u001b[49m\u001b[43m,\u001b[49m\u001b[43m \u001b[49m\u001b[43mvalues\u001b[49m\u001b[38;5;241;43m=\u001b[39;49m\u001b[38;5;124;43m'\u001b[39;49m\u001b[38;5;124;43mLived_Died_int\u001b[39;49m\u001b[38;5;124;43m'\u001b[39;49m\u001b[43m,\u001b[49m\u001b[43m \u001b[49m\u001b[43mindex\u001b[49m\u001b[38;5;241;43m=\u001b[39;49m\u001b[43m[\u001b[49m\u001b[38;5;124;43m'\u001b[39;49m\u001b[38;5;124;43mGender\u001b[39;49m\u001b[38;5;124;43m'\u001b[39;49m\u001b[43m]\u001b[49m\u001b[43m,\u001b[49m\u001b[43m \u001b[49m\u001b[43mcolumns\u001b[49m\u001b[38;5;241;43m=\u001b[39;49m\u001b[43m[\u001b[49m\u001b[38;5;124;43m'\u001b[39;49m\u001b[38;5;124;43mAge_Group\u001b[39;49m\u001b[38;5;124;43m'\u001b[39;49m\u001b[43m]\u001b[49m\u001b[43m)\u001b[49m\n\u001b[1;32m     11\u001b[0m pivot_table\u001b[38;5;241m.\u001b[39mapplymap(\u001b[38;5;28;01mlambda\u001b[39;00m x: \u001b[38;5;241m1\u001b[39m\u001b[38;5;241m-\u001b[39mx) \u001b[38;5;66;03m# Invert the values so that 0 is lived and 1 is died\u001b[39;00m\n\u001b[1;32m     13\u001b[0m \u001b[38;5;66;03m#  Create the heatmap\u001b[39;00m\n",
      "File \u001b[0;32m/opt/miniconda3/envs/module6/lib/python3.12/site-packages/pandas/core/reshape/pivot.py:102\u001b[0m, in \u001b[0;36mpivot_table\u001b[0;34m(data, values, index, columns, aggfunc, fill_value, margins, dropna, margins_name, observed, sort)\u001b[0m\n\u001b[1;32m     99\u001b[0m     table \u001b[38;5;241m=\u001b[39m concat(pieces, keys\u001b[38;5;241m=\u001b[39mkeys, axis\u001b[38;5;241m=\u001b[39m\u001b[38;5;241m1\u001b[39m)\n\u001b[1;32m    100\u001b[0m     \u001b[38;5;28;01mreturn\u001b[39;00m table\u001b[38;5;241m.\u001b[39m__finalize__(data, method\u001b[38;5;241m=\u001b[39m\u001b[38;5;124m\"\u001b[39m\u001b[38;5;124mpivot_table\u001b[39m\u001b[38;5;124m\"\u001b[39m)\n\u001b[0;32m--> 102\u001b[0m table \u001b[38;5;241m=\u001b[39m \u001b[43m__internal_pivot_table\u001b[49m\u001b[43m(\u001b[49m\n\u001b[1;32m    103\u001b[0m \u001b[43m    \u001b[49m\u001b[43mdata\u001b[49m\u001b[43m,\u001b[49m\n\u001b[1;32m    104\u001b[0m \u001b[43m    \u001b[49m\u001b[43mvalues\u001b[49m\u001b[43m,\u001b[49m\n\u001b[1;32m    105\u001b[0m \u001b[43m    \u001b[49m\u001b[43mindex\u001b[49m\u001b[43m,\u001b[49m\n\u001b[1;32m    106\u001b[0m \u001b[43m    \u001b[49m\u001b[43mcolumns\u001b[49m\u001b[43m,\u001b[49m\n\u001b[1;32m    107\u001b[0m \u001b[43m    \u001b[49m\u001b[43maggfunc\u001b[49m\u001b[43m,\u001b[49m\n\u001b[1;32m    108\u001b[0m \u001b[43m    \u001b[49m\u001b[43mfill_value\u001b[49m\u001b[43m,\u001b[49m\n\u001b[1;32m    109\u001b[0m \u001b[43m    \u001b[49m\u001b[43mmargins\u001b[49m\u001b[43m,\u001b[49m\n\u001b[1;32m    110\u001b[0m \u001b[43m    \u001b[49m\u001b[43mdropna\u001b[49m\u001b[43m,\u001b[49m\n\u001b[1;32m    111\u001b[0m \u001b[43m    \u001b[49m\u001b[43mmargins_name\u001b[49m\u001b[43m,\u001b[49m\n\u001b[1;32m    112\u001b[0m \u001b[43m    \u001b[49m\u001b[43mobserved\u001b[49m\u001b[43m,\u001b[49m\n\u001b[1;32m    113\u001b[0m \u001b[43m    \u001b[49m\u001b[43msort\u001b[49m\u001b[43m,\u001b[49m\n\u001b[1;32m    114\u001b[0m \u001b[43m\u001b[49m\u001b[43m)\u001b[49m\n\u001b[1;32m    115\u001b[0m \u001b[38;5;28;01mreturn\u001b[39;00m table\u001b[38;5;241m.\u001b[39m__finalize__(data, method\u001b[38;5;241m=\u001b[39m\u001b[38;5;124m\"\u001b[39m\u001b[38;5;124mpivot_table\u001b[39m\u001b[38;5;124m\"\u001b[39m)\n",
      "File \u001b[0;32m/opt/miniconda3/envs/module6/lib/python3.12/site-packages/pandas/core/reshape/pivot.py:172\u001b[0m, in \u001b[0;36m__internal_pivot_table\u001b[0;34m(data, values, index, columns, aggfunc, fill_value, margins, dropna, margins_name, observed, sort)\u001b[0m\n\u001b[1;32m    169\u001b[0m     values \u001b[38;5;241m=\u001b[39m \u001b[38;5;28mlist\u001b[39m(values)\n\u001b[1;32m    171\u001b[0m observed_bool \u001b[38;5;241m=\u001b[39m \u001b[38;5;28;01mFalse\u001b[39;00m \u001b[38;5;28;01mif\u001b[39;00m observed \u001b[38;5;129;01mis\u001b[39;00m lib\u001b[38;5;241m.\u001b[39mno_default \u001b[38;5;28;01melse\u001b[39;00m observed\n\u001b[0;32m--> 172\u001b[0m grouped \u001b[38;5;241m=\u001b[39m \u001b[43mdata\u001b[49m\u001b[38;5;241;43m.\u001b[39;49m\u001b[43mgroupby\u001b[49m\u001b[43m(\u001b[49m\u001b[43mkeys\u001b[49m\u001b[43m,\u001b[49m\u001b[43m \u001b[49m\u001b[43mobserved\u001b[49m\u001b[38;5;241;43m=\u001b[39;49m\u001b[43mobserved_bool\u001b[49m\u001b[43m,\u001b[49m\u001b[43m \u001b[49m\u001b[43msort\u001b[49m\u001b[38;5;241;43m=\u001b[39;49m\u001b[43msort\u001b[49m\u001b[43m,\u001b[49m\u001b[43m \u001b[49m\u001b[43mdropna\u001b[49m\u001b[38;5;241;43m=\u001b[39;49m\u001b[43mdropna\u001b[49m\u001b[43m)\u001b[49m\n\u001b[1;32m    173\u001b[0m \u001b[38;5;28;01mif\u001b[39;00m observed \u001b[38;5;129;01mis\u001b[39;00m lib\u001b[38;5;241m.\u001b[39mno_default \u001b[38;5;129;01mand\u001b[39;00m \u001b[38;5;28many\u001b[39m(\n\u001b[1;32m    174\u001b[0m     ping\u001b[38;5;241m.\u001b[39m_passed_categorical \u001b[38;5;28;01mfor\u001b[39;00m ping \u001b[38;5;129;01min\u001b[39;00m grouped\u001b[38;5;241m.\u001b[39m_grouper\u001b[38;5;241m.\u001b[39mgroupings\n\u001b[1;32m    175\u001b[0m ):\n\u001b[1;32m    176\u001b[0m     warnings\u001b[38;5;241m.\u001b[39mwarn(\n\u001b[1;32m    177\u001b[0m         \u001b[38;5;124m\"\u001b[39m\u001b[38;5;124mThe default value of observed=False is deprecated and will change \u001b[39m\u001b[38;5;124m\"\u001b[39m\n\u001b[1;32m    178\u001b[0m         \u001b[38;5;124m\"\u001b[39m\u001b[38;5;124mto observed=True in a future version of pandas. Specify \u001b[39m\u001b[38;5;124m\"\u001b[39m\n\u001b[0;32m   (...)\u001b[0m\n\u001b[1;32m    181\u001b[0m         stacklevel\u001b[38;5;241m=\u001b[39mfind_stack_level(),\n\u001b[1;32m    182\u001b[0m     )\n",
      "File \u001b[0;32m/opt/miniconda3/envs/module6/lib/python3.12/site-packages/pandas/core/frame.py:9183\u001b[0m, in \u001b[0;36mDataFrame.groupby\u001b[0;34m(self, by, axis, level, as_index, sort, group_keys, observed, dropna)\u001b[0m\n\u001b[1;32m   9180\u001b[0m \u001b[38;5;28;01mif\u001b[39;00m level \u001b[38;5;129;01mis\u001b[39;00m \u001b[38;5;28;01mNone\u001b[39;00m \u001b[38;5;129;01mand\u001b[39;00m by \u001b[38;5;129;01mis\u001b[39;00m \u001b[38;5;28;01mNone\u001b[39;00m:\n\u001b[1;32m   9181\u001b[0m     \u001b[38;5;28;01mraise\u001b[39;00m \u001b[38;5;167;01mTypeError\u001b[39;00m(\u001b[38;5;124m\"\u001b[39m\u001b[38;5;124mYou have to supply one of \u001b[39m\u001b[38;5;124m'\u001b[39m\u001b[38;5;124mby\u001b[39m\u001b[38;5;124m'\u001b[39m\u001b[38;5;124m and \u001b[39m\u001b[38;5;124m'\u001b[39m\u001b[38;5;124mlevel\u001b[39m\u001b[38;5;124m'\u001b[39m\u001b[38;5;124m\"\u001b[39m)\n\u001b[0;32m-> 9183\u001b[0m \u001b[38;5;28;01mreturn\u001b[39;00m \u001b[43mDataFrameGroupBy\u001b[49m\u001b[43m(\u001b[49m\n\u001b[1;32m   9184\u001b[0m \u001b[43m    \u001b[49m\u001b[43mobj\u001b[49m\u001b[38;5;241;43m=\u001b[39;49m\u001b[38;5;28;43mself\u001b[39;49m\u001b[43m,\u001b[49m\n\u001b[1;32m   9185\u001b[0m \u001b[43m    \u001b[49m\u001b[43mkeys\u001b[49m\u001b[38;5;241;43m=\u001b[39;49m\u001b[43mby\u001b[49m\u001b[43m,\u001b[49m\n\u001b[1;32m   9186\u001b[0m \u001b[43m    \u001b[49m\u001b[43maxis\u001b[49m\u001b[38;5;241;43m=\u001b[39;49m\u001b[43maxis\u001b[49m\u001b[43m,\u001b[49m\n\u001b[1;32m   9187\u001b[0m \u001b[43m    \u001b[49m\u001b[43mlevel\u001b[49m\u001b[38;5;241;43m=\u001b[39;49m\u001b[43mlevel\u001b[49m\u001b[43m,\u001b[49m\n\u001b[1;32m   9188\u001b[0m \u001b[43m    \u001b[49m\u001b[43mas_index\u001b[49m\u001b[38;5;241;43m=\u001b[39;49m\u001b[43mas_index\u001b[49m\u001b[43m,\u001b[49m\n\u001b[1;32m   9189\u001b[0m \u001b[43m    \u001b[49m\u001b[43msort\u001b[49m\u001b[38;5;241;43m=\u001b[39;49m\u001b[43msort\u001b[49m\u001b[43m,\u001b[49m\n\u001b[1;32m   9190\u001b[0m \u001b[43m    \u001b[49m\u001b[43mgroup_keys\u001b[49m\u001b[38;5;241;43m=\u001b[39;49m\u001b[43mgroup_keys\u001b[49m\u001b[43m,\u001b[49m\n\u001b[1;32m   9191\u001b[0m \u001b[43m    \u001b[49m\u001b[43mobserved\u001b[49m\u001b[38;5;241;43m=\u001b[39;49m\u001b[43mobserved\u001b[49m\u001b[43m,\u001b[49m\n\u001b[1;32m   9192\u001b[0m \u001b[43m    \u001b[49m\u001b[43mdropna\u001b[49m\u001b[38;5;241;43m=\u001b[39;49m\u001b[43mdropna\u001b[49m\u001b[43m,\u001b[49m\n\u001b[1;32m   9193\u001b[0m \u001b[43m\u001b[49m\u001b[43m)\u001b[49m\n",
      "File \u001b[0;32m/opt/miniconda3/envs/module6/lib/python3.12/site-packages/pandas/core/groupby/groupby.py:1329\u001b[0m, in \u001b[0;36mGroupBy.__init__\u001b[0;34m(self, obj, keys, axis, level, grouper, exclusions, selection, as_index, sort, group_keys, observed, dropna)\u001b[0m\n\u001b[1;32m   1326\u001b[0m \u001b[38;5;28mself\u001b[39m\u001b[38;5;241m.\u001b[39mdropna \u001b[38;5;241m=\u001b[39m dropna\n\u001b[1;32m   1328\u001b[0m \u001b[38;5;28;01mif\u001b[39;00m grouper \u001b[38;5;129;01mis\u001b[39;00m \u001b[38;5;28;01mNone\u001b[39;00m:\n\u001b[0;32m-> 1329\u001b[0m     grouper, exclusions, obj \u001b[38;5;241m=\u001b[39m \u001b[43mget_grouper\u001b[49m\u001b[43m(\u001b[49m\n\u001b[1;32m   1330\u001b[0m \u001b[43m        \u001b[49m\u001b[43mobj\u001b[49m\u001b[43m,\u001b[49m\n\u001b[1;32m   1331\u001b[0m \u001b[43m        \u001b[49m\u001b[43mkeys\u001b[49m\u001b[43m,\u001b[49m\n\u001b[1;32m   1332\u001b[0m \u001b[43m        \u001b[49m\u001b[43maxis\u001b[49m\u001b[38;5;241;43m=\u001b[39;49m\u001b[43maxis\u001b[49m\u001b[43m,\u001b[49m\n\u001b[1;32m   1333\u001b[0m \u001b[43m        \u001b[49m\u001b[43mlevel\u001b[49m\u001b[38;5;241;43m=\u001b[39;49m\u001b[43mlevel\u001b[49m\u001b[43m,\u001b[49m\n\u001b[1;32m   1334\u001b[0m \u001b[43m        \u001b[49m\u001b[43msort\u001b[49m\u001b[38;5;241;43m=\u001b[39;49m\u001b[43msort\u001b[49m\u001b[43m,\u001b[49m\n\u001b[1;32m   1335\u001b[0m \u001b[43m        \u001b[49m\u001b[43mobserved\u001b[49m\u001b[38;5;241;43m=\u001b[39;49m\u001b[38;5;28;43;01mFalse\u001b[39;49;00m\u001b[43m \u001b[49m\u001b[38;5;28;43;01mif\u001b[39;49;00m\u001b[43m \u001b[49m\u001b[43mobserved\u001b[49m\u001b[43m \u001b[49m\u001b[38;5;129;43;01mis\u001b[39;49;00m\u001b[43m \u001b[49m\u001b[43mlib\u001b[49m\u001b[38;5;241;43m.\u001b[39;49m\u001b[43mno_default\u001b[49m\u001b[43m \u001b[49m\u001b[38;5;28;43;01melse\u001b[39;49;00m\u001b[43m \u001b[49m\u001b[43mobserved\u001b[49m\u001b[43m,\u001b[49m\n\u001b[1;32m   1336\u001b[0m \u001b[43m        \u001b[49m\u001b[43mdropna\u001b[49m\u001b[38;5;241;43m=\u001b[39;49m\u001b[38;5;28;43mself\u001b[39;49m\u001b[38;5;241;43m.\u001b[39;49m\u001b[43mdropna\u001b[49m\u001b[43m,\u001b[49m\n\u001b[1;32m   1337\u001b[0m \u001b[43m    \u001b[49m\u001b[43m)\u001b[49m\n\u001b[1;32m   1339\u001b[0m \u001b[38;5;28;01mif\u001b[39;00m observed \u001b[38;5;129;01mis\u001b[39;00m lib\u001b[38;5;241m.\u001b[39mno_default:\n\u001b[1;32m   1340\u001b[0m     \u001b[38;5;28;01mif\u001b[39;00m \u001b[38;5;28many\u001b[39m(ping\u001b[38;5;241m.\u001b[39m_passed_categorical \u001b[38;5;28;01mfor\u001b[39;00m ping \u001b[38;5;129;01min\u001b[39;00m grouper\u001b[38;5;241m.\u001b[39mgroupings):\n",
      "File \u001b[0;32m/opt/miniconda3/envs/module6/lib/python3.12/site-packages/pandas/core/groupby/grouper.py:1043\u001b[0m, in \u001b[0;36mget_grouper\u001b[0;34m(obj, key, axis, level, sort, observed, validate, dropna)\u001b[0m\n\u001b[1;32m   1041\u001b[0m         in_axis, level, gpr \u001b[38;5;241m=\u001b[39m \u001b[38;5;28;01mFalse\u001b[39;00m, gpr, \u001b[38;5;28;01mNone\u001b[39;00m\n\u001b[1;32m   1042\u001b[0m     \u001b[38;5;28;01melse\u001b[39;00m:\n\u001b[0;32m-> 1043\u001b[0m         \u001b[38;5;28;01mraise\u001b[39;00m \u001b[38;5;167;01mKeyError\u001b[39;00m(gpr)\n\u001b[1;32m   1044\u001b[0m \u001b[38;5;28;01melif\u001b[39;00m \u001b[38;5;28misinstance\u001b[39m(gpr, Grouper) \u001b[38;5;129;01mand\u001b[39;00m gpr\u001b[38;5;241m.\u001b[39mkey \u001b[38;5;129;01mis\u001b[39;00m \u001b[38;5;129;01mnot\u001b[39;00m \u001b[38;5;28;01mNone\u001b[39;00m:\n\u001b[1;32m   1045\u001b[0m     \u001b[38;5;66;03m# Add key to exclusions\u001b[39;00m\n\u001b[1;32m   1046\u001b[0m     exclusions\u001b[38;5;241m.\u001b[39madd(gpr\u001b[38;5;241m.\u001b[39mkey)\n",
      "\u001b[0;31mKeyError\u001b[0m: 'Age_Group'"
     ]
    }
   ],
   "source": [
    "# Drop columns that are not needed\n",
    "passenger_df = passenger_df.drop(['Name', 'Born', 'Died', 'Fare', 'Fare_decimal', 'Passenger_Class'], axis=1)\n",
    "passenger_df.dropna(inplace=True) # Drop null values\n",
    "# Encode the categorical variables\n",
    "le = preprocessing.LabelEncoder()\n",
    "passenger_df['Lived_Died_int'] = le.fit_transform(passenger_df['Lived_Died'])\n",
    "\n",
    "# Create a heatmap \n",
    "# Use a pivot table to create a matrix of the data\n",
    "pivot_table = pd.pivot_table(passenger_df, values='Lived_Died_int', index=['Gender'], columns=['Age_Group'])\n",
    "pivot_table.applymap(lambda x: 1-x) # Invert the values so that 0 is lived and 1 is died\n",
    "\n",
    "#  Create the heatmap\n",
    "plt.figure(figsize=(10, 6))\n",
    "x_axis_labels = ['0-9', '10-19', '20-29', '30-39', '40-49', '50-59', '60-69', '70-79']\n",
    "\n",
    "sns.heatmap(pivot_table, cmap='rocket', annot=True, xticklabels=x_axis_labels, yticklabels=['Female', 'Male'], fmt='.2f')\n",
    "plt.title('heatmap Comparing Age and Genderto Survival Rate on the Titanic') \n",
    "plt.xticks(rotation=45)\n",
    "\n"
   ]
  },
  {
   "cell_type": "code",
   "execution_count": 22,
   "metadata": {},
   "outputs": [
    {
     "name": "stdout",
     "output_type": "stream",
     "text": [
      "Chi Square Value: 104.05195288933228\n",
      "P-Value: 2.543346399916496e-23\n",
      "Degrees of Freedom: 2\n",
      "Expected Frequencies Table: \n",
      "[[220.56213018 184.64201183 446.79585799]\n",
      " [129.43786982 108.35798817 262.20414201]]\n"
     ]
    },
    {
     "data": {
      "image/png": "[encoded data removed]",
      "text/plain": [
       "<Figure size 640x480 with 1 Axes>"
      ]
     },
     "metadata": {},
     "output_type": "display_data"
    }
   ],
   "source": [
    "## TASK: Did the Titanic Passenger Class Affect Survival Rate?\n",
    "## In this case the data is ordinal, so we can use the Chi Squared test\n",
    "\n",
    "# Load the data and show the first few rows\n",
    "passenger_df = pd.read_csv('../data/titanic_passengers.csv')\n",
    "passenger_df.head()\n",
    "\n",
    "# Create the contingency table\n",
    "contingency_table = pd.crosstab(passenger_df['Lived_Died'], passenger_df['Passenger_Class'], margins=False)\n",
    "\n",
    "# Plot the contingency table\n",
    "contingency_table.plot(kind='bar', stacked=True)\n",
    "\n",
    "# Run the Chi Squared analysis\n",
    "chi2, p, dof, expected = chi2_contingency(contingency_table)\n",
    "\n",
    "# Print the results\n",
    "print(f'Chi Square Value: {chi2}')\n",
    "print(f'P-Value: {p}')\n",
    "print(f'Degrees of Freedom: {dof}')\n",
    "print(f'Expected Frequencies Table: \\n{expected}')\n",
    "\n"
   ]
  },
  {
   "cell_type": "markdown",
   "metadata": {},
   "source": [
    "# Which passenger class is responsible for the significant difference in survival rate?\n",
    "- Chi-Squared test offers that at least one of the classes is different from the others, but it doesn't tell us which one\n",
    "- Since this is our first test it is considered a `Priori Test`\n",
    "- To continue our analysis, we will run another test, a `Post Hoc` test"
   ]
  },
  {
   "cell_type": "markdown",
   "metadata": {},
   "source": [
    "### Post-Hoc Test (Fisher's Exact Test)\n",
    "\n",
    "- Compare very passenger class to every other class to see if there is statisical significance between the two.\n",
    "\n",
    "#### TODO\n",
    "- We could apply a Chi-squared test for each of the three classes, but our sample date is too small \n",
    "- In this case, `Fisher's Exact` test is a better option\n"
   ]
  },
  {
   "cell_type": "code",
   "execution_count": 34,
   "metadata": {},
   "outputs": [
    {
     "name": "stdout",
     "output_type": "stream",
     "text": [
      "P-Value for First and Second Class: 1.827149276703859e-05\n",
      "Oddsratio for First and Second Class: 0.49984363894811656\n",
      "\n",
      "P-Value for First and Third Class: 7.457205699022123e-24\n",
      "Oddsratio for First and Third Class: 0.25411766922960954\n",
      "\n",
      "P-Value for Second and Third Class: 5.007621820657881e-06\n",
      "Oddsratio for Second and Third Class: 0.5083943246019518\n"
     ]
    }
   ],
   "source": [
    "# Load the data\n",
    "passenger_df = pd.read_csv('../data/titanic_passengers.csv')\n",
    "passenger_df.head()\n",
    "\n",
    "# Make a contingency table\n",
    "contingency_table = pd.crosstab(passenger_df['Passenger_Class'], passenger_df['Lived_Died'], margins=False)\n",
    "\n",
    "# Make variables for each class in the contingency table\n",
    "first_class = contingency_table.iloc[0].values # Get the values of the first row\n",
    "second_class = contingency_table.iloc[1].values # Get the values of the second row\n",
    "third_class = contingency_table.iloc[2].values # Get the values of the third row\n",
    "\n",
    "# Create a Fisher's Exact Test to determine if there is a relationship between the variables\n",
    "from scipy.stats import fisher_exact\n",
    "\n",
    "# Print the p value as a percentage\n",
    "oddsratio, p = fisher_exact([first_class, second_class])\n",
    "print(f'P-Value for First and Second Class: {p}')\n",
    "print(f'Oddsratio for First and Second Class: {oddsratio}\\n')\n",
    "\n",
    "oddsratio, p = fisher_exact([first_class, third_class])\n",
    "print(f'P-Value for First and Third Class: {p}')\n",
    "print(f'Oddsratio for First and Third Class: {oddsratio}\\n')\n",
    "\n",
    "oddsratio, p = fisher_exact([second_class, third_class])\n",
    "print(f'P-Value for Second and Third Class: {p}')\n",
    "print(f'Oddsratio for Second and Third Class: {oddsratio}')\n",
    "\n",
    "\n"
   ]
  },
  {
   "cell_type": "markdown",
   "metadata": {},
   "source": [
    "Each of the `Fisher's Exact` test reveals the statistical significance \n",
    "\n",
    "Another way to conceptualize the results is to look at percentages: \n",
    "\n",
    "| Passenger Class   | Died  | \n",
    "| ------------------| ------|\n",
    "| First Class       | 43%   |\n",
    "| Second Class      | 60%   | \n",
    "| THird Class       | 74%   |\n",
    "\n",
    "TODO: Create a heatmap of Passenger Class split in Age_Range by Gender and survival rate"
   ]
  },
  {
   "cell_type": "code",
   "execution_count": 44,
   "metadata": {},
   "outputs": [
    {
     "ename": "TypeError",
     "evalue": "'NoneType' object is not subscriptable",
     "output_type": "error",
     "traceback": [
      "\u001b[0;31m---------------------------------------------------------------------------\u001b[0m",
      "\u001b[0;31mTypeError\u001b[0m                                 Traceback (most recent call last)",
      "Cell \u001b[0;32mIn[44], line 14\u001b[0m\n\u001b[1;32m     11\u001b[0m passenger_df \u001b[38;5;241m=\u001b[39m passenger_df\u001b[38;5;241m.\u001b[39mdrop([\u001b[38;5;124m'\u001b[39m\u001b[38;5;124mName\u001b[39m\u001b[38;5;124m'\u001b[39m, \u001b[38;5;124m'\u001b[39m\u001b[38;5;124mBorn\u001b[39m\u001b[38;5;124m'\u001b[39m, \u001b[38;5;124m'\u001b[39m\u001b[38;5;124mDied\u001b[39m\u001b[38;5;124m'\u001b[39m, \u001b[38;5;124m'\u001b[39m\u001b[38;5;124mFare\u001b[39m\u001b[38;5;124m'\u001b[39m, \u001b[38;5;124m'\u001b[39m\u001b[38;5;124mFare_decimal\u001b[39m\u001b[38;5;124m'\u001b[39m], axis\u001b[38;5;241m=\u001b[39m\u001b[38;5;241m1\u001b[39m, inplace\u001b[38;5;241m=\u001b[39m\u001b[38;5;28;01mTrue\u001b[39;00m)\n\u001b[1;32m     13\u001b[0m le \u001b[38;5;241m=\u001b[39m preprocessing\u001b[38;5;241m.\u001b[39mLabelEncoder()\n\u001b[0;32m---> 14\u001b[0m passenger_df[\u001b[38;5;124m'\u001b[39m\u001b[38;5;124mLived_Died_int\u001b[39m\u001b[38;5;124m'\u001b[39m] \u001b[38;5;241m=\u001b[39m le\u001b[38;5;241m.\u001b[39mfit_transform(\u001b[43mpassenger_df\u001b[49m\u001b[43m[\u001b[49m\u001b[38;5;124;43m'\u001b[39;49m\u001b[38;5;124;43mLived_Died\u001b[39;49m\u001b[38;5;124;43m'\u001b[39;49m\u001b[43m]\u001b[49m)\n\u001b[1;32m     15\u001b[0m passenger_df[\u001b[38;5;124m'\u001b[39m\u001b[38;5;124mAge_Group\u001b[39m\u001b[38;5;124m'\u001b[39m] \u001b[38;5;241m=\u001b[39m pd\u001b[38;5;241m.\u001b[39mcut(passenger_df[\u001b[38;5;124m'\u001b[39m\u001b[38;5;124mAge\u001b[39m\u001b[38;5;124m'\u001b[39m], bins\u001b[38;5;241m=\u001b[39m\u001b[38;5;28mrange\u001b[39m(\u001b[38;5;241m0\u001b[39m, \u001b[38;5;241m90\u001b[39m, \u001b[38;5;241m10\u001b[39m), labels\u001b[38;5;241m=\u001b[39mlabels)\n\u001b[1;32m     17\u001b[0m \u001b[38;5;66;03m# pivot table\u001b[39;00m\n",
      "\u001b[0;31mTypeError\u001b[0m: 'NoneType' object is not subscriptable"
     ]
    }
   ],
   "source": [
    "# Create a heatmap of Passenger Class split in Age_Range by Gender and survival rate\n",
    "import seaborn as sns\n",
    "import pandas as pd\n",
    "import matplotlib.pyplot as plt\n",
    "from sklearn import preprocessing\n",
    "%matplotlib inline\n",
    "\n",
    "passenger_df = pd.read_csv('../data/titanic_passengers.csv')\n",
    "\n",
    "# Drop columns that are not needed\n",
    "passenger_df = passenger_df.drop(['Name', 'Born', 'Died', 'Fare', 'Fare_decimal'], axis=1, inplace=True)\n",
    "\n",
    "le = preprocessing.LabelEncoder()\n",
    "passenger_df['Lived_Died_int'] = le.fit_transform(passenger_df['Lived_Died'])\n",
    "passenger_df['Age_Group'] = pd.cut(passenger_df['Age'], bins=range(0, 90, 10), labels=labels)\n",
    "\n",
    "# pivot table\n",
    "pivot_table = pd.pivot_table(passenger_df, values='Lived_Died_int', index=['Gender'], columns=['Age_Group', 'Passenger_Class'])\n",
    "\n",
    "# Create the heatmap\n",
    "plt.figure(figsize=(10, 6))\n",
    "# Create labels for all passenger classes and age groups\n",
    "x_axis_labels = [f'PC {pc}: {age_group}' for pc in range(1, 4) for age_group in labels]\n",
    "\n",
    "sns.heatmap(pivot_table, cmap='rocket', annot=True, xticklabels=x_axis_labels, yticklabels=['Female', 'Male'], fmt='.2f')\n",
    "plt.title('Heatmap Comparing Age, Gender, and Passenger Class to Survival Rate on the Titanic')\n",
    "plt.xticks(rotation=45)"
   ]
  },
  {
   "cell_type": "markdown",
   "metadata": {},
   "source": [
    "### T-Test: Fare and Gender\n",
    "\n",
    "WHile `Chi-Test` and `Fisher-Test` focus on `categorical` discrete dependent variable, the `T-Test` and `ANOVA` test, target `continuous` data\n",
    "\n",
    "#### How was Fare affected by Gender and Passenger Class? \n",
    "- Did one gender pay more than the other?\n",
    "- Is there a difference in fare between passenger classes\n",
    "- Is there an interaction between gender and passenger class on the resulting fare? "
   ]
  },
  {
   "cell_type": "code",
   "execution_count": 10,
   "metadata": {},
   "outputs": [],
   "source": [
    "# imports \n",
    "import pandas as pd\n",
    "import matplotlib.pyplot as plt\n",
    "from sklearn import preprocessing\n",
    "import seaborn as sns\n",
    "%matplotlib inline\n",
    "\n",
    "# Load the data\n",
    "passenger_df = pd.read_csv('../data/titanic_passengers.csv')\n"
   ]
  },
  {
   "cell_type": "code",
   "execution_count": 16,
   "metadata": {},
   "outputs": [
    {
     "data": {
      "text/plain": [
       "Text(0.5, 0, 'Gender')"
      ]
     },
     "execution_count": 16,
     "metadata": {},
     "output_type": "execute_result"
    },
    {
     "data": {
      "image/png": "[encoded data removed]",
      "text/plain": [
       "<Figure size 1000x600 with 1 Axes>"
      ]
     },
     "metadata": {},
     "output_type": "display_data"
    }
   ],
   "source": [
    "# Visulize the data using a box plot\n",
    "plt.figure(figsize=(10, 6))\n",
    "sns.boxplot(y='Fare_decimal', x='Gender', data=passenger_df)\n",
    "plt.title('Fare by Passenger Class')\n",
    "plt.ylabel('Fare Amount (in Pounds)')\n",
    "plt.xlabel('Gender')"
   ]
  },
  {
   "cell_type": "code",
   "execution_count": 27,
   "metadata": {},
   "outputs": [
    {
     "data": {
      "text/plain": [
       "count    839.000000\n",
       "mean      26.226067\n",
       "std       42.514485\n",
       "min        1.000000\n",
       "25%        7.895000\n",
       "50%       12.350000\n",
       "75%       26.550000\n",
       "max      512.330000\n",
       "Name: Fare_decimal, dtype: float64"
      ]
     },
     "execution_count": 27,
     "metadata": {},
     "output_type": "execute_result"
    }
   ],
   "source": [
    "male = passenger_df[passenger_df['Gender'] == 'Male']\n",
    "\n",
    "male['Fare_decimal'].describe()"
   ]
  },
  {
   "cell_type": "code",
   "execution_count": null,
   "metadata": {},
   "outputs": [],
   "source": [
    "female = passenger_df[passenger_df['Gender'] == 'Female']\n",
    "\n",
    "female['Fare_decimal'].describe()"
   ]
  },
  {
   "cell_type": "code",
   "execution_count": 31,
   "metadata": {},
   "outputs": [
    {
     "name": "stdout",
     "output_type": "stream",
     "text": [
      "T-Statistic: -7.273526862266239\n",
      "P-Value: 6.093364811911871e-13\n"
     ]
    }
   ],
   "source": [
    "# Null hypotheses: There is no difference in fare between Male and Female passengers\n",
    "# Alternative hypotheses: There is a difference in fare between male and Female passengers\n",
    "\n",
    "from scipy.stats import ttest_ind # Independent t-test\n",
    "\n",
    "# NOTE: In order to run test we need to drop the null values\n",
    "passenger_df.dropna(inplace=True)\n",
    "male = passenger_df[passenger_df['Gender'] == 'Male']\n",
    "female = passenger_df[passenger_df['Gender'] == 'Female']\n",
    "\n",
    "# Run test\n",
    "t_stat, p = ttest_ind(male['Fare_decimal'], female['Fare_decimal'])\n",
    "print(f'T-Statistic: {t_stat}')\n",
    "print(f'P-Value: {p}') # If P-Value is less than 0.05, so we reject the null hypothesis\n",
    "\n",
    "\n"
   ]
  },
  {
   "cell_type": "markdown",
   "metadata": {},
   "source": [
    "## ANOVA Example; Price Difference Between Passenger Class\n",
    "- `T-Test` specializes in comparing `two` populations\n",
    "- `ANOVA (Analysis of Variance)` test will allow you to compare the influence of `three or more` populations\n",
    "\n",
    "Fair prices are `continuous numerical dependent variable`. They are affected by the three passenger classes. \n",
    "\n",
    "Install new package:\n",
    "```bash\n",
    "conda install statsmodels\n",
    "```"
   ]
  },
  {
   "cell_type": "code",
   "execution_count": null,
   "metadata": {},
   "outputs": [],
   "source": []
  },
  {
   "cell_type": "code",
   "execution_count": 5,
   "metadata": {},
   "outputs": [],
   "source": [
    "# Null Hypotheses: There is no difference in fare between the three passenger classes\n",
    "\n",
    "# Install statsmodels\n",
    "from statsmodels.formula.api import ols\n",
    "from matplotlib import pyplot as plt\n",
    "import seaborn as sns\n",
    "import pandas as pd\n",
    "import statsmodels.api as sm \n",
    "%matplotlib inline\n",
    "\n",
    "# Load data\n",
    "passenger_df = pd.read_csv('../data/titanic_passengers.csv')"
   ]
  },
  {
   "cell_type": "code",
   "execution_count": 7,
   "metadata": {},
   "outputs": [
    {
     "data": {
      "text/html": [
       "<div>\n",
       "<style scoped>\n",
       "    .dataframe tbody tr th:only-of-type {\n",
       "        vertical-align: middle;\n",
       "    }\n",
       "\n",
       "    .dataframe tbody tr th {\n",
       "        vertical-align: top;\n",
       "    }\n",
       "\n",
       "    .dataframe thead th {\n",
       "        text-align: right;\n",
       "    }\n",
       "</style>\n",
       "<table border=\"1\" class=\"dataframe\">\n",
       "  <thead>\n",
       "    <tr style=\"text-align: right;\">\n",
       "      <th></th>\n",
       "      <th>df</th>\n",
       "      <th>sum_sq</th>\n",
       "      <th>mean_sq</th>\n",
       "      <th>F</th>\n",
       "      <th>PR(&gt;F)</th>\n",
       "    </tr>\n",
       "  </thead>\n",
       "  <tbody>\n",
       "    <tr>\n",
       "      <th>C(Passenger_Class)</th>\n",
       "      <td>2.0</td>\n",
       "      <td>1.201111e+06</td>\n",
       "      <td>600555.522821</td>\n",
       "      <td>338.116478</td>\n",
       "      <td>2.964452e-119</td>\n",
       "    </tr>\n",
       "    <tr>\n",
       "      <th>Residual</th>\n",
       "      <td>1318.0</td>\n",
       "      <td>2.341004e+06</td>\n",
       "      <td>1776.179397</td>\n",
       "      <td>NaN</td>\n",
       "      <td>NaN</td>\n",
       "    </tr>\n",
       "  </tbody>\n",
       "</table>\n",
       "</div>"
      ],
      "text/plain": [
       "                        df        sum_sq  ...           F         PR(>F)\n",
       "C(Passenger_Class)     2.0  1.201111e+06  ...  338.116478  2.964452e-119\n",
       "Residual            1318.0  2.341004e+06  ...         NaN            NaN\n",
       "\n",
       "[2 rows x 5 columns]"
      ]
     },
     "execution_count": 7,
     "metadata": {},
     "output_type": "execute_result"
    }
   ],
   "source": [
    "# Load your OLS (Ordinary Least Squares) model\n",
    "model = ols('Fare_decimal ~ C(Passenger_Class)', data=passenger_df).fit()\n",
    "\n",
    "# ANOVA Table\n",
    "anova_table = sm.stats.anova_lm(model, typ=1)\n",
    "anova_table"
   ]
  },
  {
   "cell_type": "markdown",
   "metadata": {},
   "source": [
    "`PR(>)` is your `P-value`\n",
    "\n",
    "#### Anova Notation (R-style Ormulas):\n",
    "- The `~` separates hte left side from the right side\n",
    "- The `+` adds a new separatedcolum to the design matrix \n",
    "- The `:` adds a new interaction column to the model matrix\n",
    "- The `*` signifies that both individual columns are combined\n",
    "\n",
    "The string `Fare_decimal ~ C(Passenger_Class)` translates to: \n",
    "- Fare decimal variable is affected by the categorical variable (`C`) Passenger class\n",
    "\n",
    "Conclusion, there is some difference in price relative to the passenger class"
   ]
  },
  {
   "cell_type": "code",
   "execution_count": 8,
   "metadata": {},
   "outputs": [
    {
     "data": {
      "text/plain": [
       "Text(0.5, 0, 'Passenger Class')"
      ]
     },
     "execution_count": 8,
     "metadata": {},
     "output_type": "execute_result"
    },
    {
     "data": {
      "image/png": "[encoded data removed]",
      "text/plain": [
       "<Figure size 1000x600 with 1 Axes>"
      ]
     },
     "metadata": {},
     "output_type": "display_data"
    }
   ],
   "source": [
    "# Create a box plot of the fare paid by passenger class \n",
    "plt.figure(figsize=(10, 6))\n",
    "sns.boxplot(y='Fare_decimal', x='Passenger_Class', data=passenger_df)\n",
    "plt.title('Fare by Passenger Class')\n",
    "plt.ylabel('Fare Amount (in Pounds)')\n",
    "plt.xlabel('Passenger Class')\n"
   ]
  },
  {
   "cell_type": "code",
   "execution_count": 9,
   "metadata": {},
   "outputs": [],
   "source": [
    "# TODO: Do a Post-Hoc test on the ANOVA test, for ANOVA we use the Tukey HSD test\n",
    "# to compare each individual population from a statistically significant ANOVA test\n",
    "\n",
    "from statsmodels.formula.api import ols\n",
    "from matplotlib import pyplot as plt\n",
    "import seaborn as sns\n",
    "import pandas as pd\n",
    "import statsmodels.api as sm \n",
    "%matplotlib inline\n",
    "from statsmodels.stats.multicomp import MultiComparison\n",
    "from statsmodels.stats.multicomp import tukeyhsd\n",
    "\n",
    "# Load data\n",
    "passenger_df = pd.read_csv('../data/titanic_passengers.csv')\n",
    "\n",
    "columns_to_drop = ['Name', 'Born', 'Died', 'Fare', 'Lived_Died', 'Gender']\n",
    "\n",
    "# Drop unused columns and null values\n",
    "passenger_df.drop(columns=columns_to_drop, inplace=True) # Drop unused columns\n",
    "passenger_df.dropna(inplace=True) # drop all NULLs"
   ]
  },
  {
   "cell_type": "code",
   "execution_count": 11,
   "metadata": {},
   "outputs": [
    {
     "data": {
      "text/html": [
       "<table class=\"simpletable\">\n",
       "<caption>Multiple Comparison of Means - Tukey HSD, FWER=0.05</caption>\n",
       "<tr>\n",
       "  <th>group1</th> <th>group2</th> <th>meandiff</th> <th>p-adj</th>   <th>lower</th>    <th>upper</th>  <th>reject</th>\n",
       "</tr>\n",
       "<tr>\n",
       "     <td>1</td>      <td>2</td>   <td>-64.5942</td>  <td>0.0</td>  <td>-72.6865</td> <td>-56.5018</td>  <td>True</td> \n",
       "</tr>\n",
       "<tr>\n",
       "     <td>1</td>      <td>3</td>   <td>-72.9052</td>  <td>0.0</td>  <td>-79.4909</td> <td>-66.3195</td>  <td>True</td> \n",
       "</tr>\n",
       "<tr>\n",
       "     <td>2</td>      <td>3</td>    <td>-8.311</td>  <td>0.016</td> <td>-15.3695</td>  <td>-1.2525</td>  <td>True</td> \n",
       "</tr>\n",
       "</table>"
      ],
      "text/latex": [
       "\\begin{center}\n",
       "\\begin{tabular}{ccccccc}\n",
       "\\toprule\n",
       "\\textbf{group1} & \\textbf{group2} & \\textbf{meandiff} & \\textbf{p-adj} & \\textbf{lower} & \\textbf{upper} & \\textbf{reject}  \\\\\n",
       "\\midrule\n",
       "       1        &        2        &      -64.5942     &      0.0       &    -72.6865    &    -56.5018    &       True       \\\\\n",
       "       1        &        3        &      -72.9052     &      0.0       &    -79.4909    &    -66.3195    &       True       \\\\\n",
       "       2        &        3        &       -8.311      &     0.016      &    -15.3695    &    -1.2525     &       True       \\\\\n",
       "\\bottomrule\n",
       "\\end{tabular}\n",
       "%\\caption{Multiple Comparison of Means - Tukey HSD, FWER=0.05}\n",
       "\\end{center}"
      ],
      "text/plain": [
       "<class 'statsmodels.iolib.table.SimpleTable'>"
      ]
     },
     "execution_count": 11,
     "metadata": {},
     "output_type": "execute_result"
    }
   ],
   "source": [
    "mc = MultiComparison(passenger_df['Fare_decimal'], passenger_df['Passenger_Class'])\n",
    "result = mc.tukeyhsd()\n",
    "result.summary()"
   ]
  },
  {
   "cell_type": "markdown",
   "metadata": {},
   "source": [
    "If no statistical significance is found, then hte `reject` column will indicate `False`, that is, the `null-hypothesis` cannot be rejected."
   ]
  },
  {
   "cell_type": "markdown",
   "metadata": {},
   "source": []
  }
 ],
 "metadata": {
  "kernelspec": {
   "display_name": "module6",
   "language": "python",
   "name": "python3"
  },
  "language_info": {
   "codemirror_mode": {
    "name": "ipython",
    "version": 3
   },
   "file_extension": ".py",
   "mimetype": "text/x-python",
   "name": "python",
   "nbconvert_exporter": "python",
   "pygments_lexer": "ipython3",
   "version": "3.12.7"
  }
 },
 "nbformat": 4,
 "nbformat_minor": 2
}
